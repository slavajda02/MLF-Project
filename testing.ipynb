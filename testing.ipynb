{
 "cells": [
  {
   "cell_type": "code",
   "execution_count": 1,
   "metadata": {},
   "outputs": [
    {
     "name": "stderr",
     "output_type": "stream",
     "text": [
      "2025-04-01 19:30:43.739230: E external/local_xla/xla/stream_executor/cuda/cuda_dnn.cc:9261] Unable to register cuDNN factory: Attempting to register factory for plugin cuDNN when one has already been registered\n",
      "2025-04-01 19:30:43.739258: E external/local_xla/xla/stream_executor/cuda/cuda_fft.cc:607] Unable to register cuFFT factory: Attempting to register factory for plugin cuFFT when one has already been registered\n",
      "2025-04-01 19:30:43.740463: E external/local_xla/xla/stream_executor/cuda/cuda_blas.cc:1515] Unable to register cuBLAS factory: Attempting to register factory for plugin cuBLAS when one has already been registered\n",
      "2025-04-01 19:30:43.746880: I tensorflow/core/platform/cpu_feature_guard.cc:182] This TensorFlow binary is optimized to use available CPU instructions in performance-critical operations.\n",
      "To enable the following instructions: AVX2 FMA, in other operations, rebuild TensorFlow with the appropriate compiler flags.\n",
      "2025-04-01 19:30:44.330813: W tensorflow/compiler/tf2tensorrt/utils/py_utils.cc:38] TF-TRT Warning: Could not find TensorRT\n"
     ]
    }
   ],
   "source": [
    "import numpy as np\n",
    "import os\n",
    "import matplotlib.pyplot as plt\n",
    "import pandas as pd\n",
    "\n",
    "#TensorFlow imports\n",
    "import tensorflow as tf\n",
    "from tensorflow.keras.models import Sequential\n",
    "from tensorflow.keras.optimizers import Adam\n",
    "from tensorflow.keras.callbacks import EarlyStopping, ReduceLROnPlateau\n",
    "from tensorflow.keras.layers import InputLayer, Conv2D, MaxPooling2D, Flatten, Dense, Dropout"
   ]
  },
  {
   "cell_type": "code",
   "execution_count": 2,
   "metadata": {},
   "outputs": [],
   "source": [
    "# Load dataset\n",
    "def load_dataset(dir_path):\n",
    "    \"\"\"\n",
    "    Load dataset from a given directory path.\n",
    "    \n",
    "    Args:\n",
    "        dir_path (str): Path to the dataset directory.\n",
    "    \n",
    "    Returns:\n",
    "        tuple: A tuple containing:\n",
    "            - training_dataset (np.array): Array of training data.\n",
    "            - testing_dataset (np.array): Array of testing data.\n",
    "            - label_train (pd.DataFrame): DataFrame of training labels.\n",
    "            - label_test (pd.DataFrame): DataFrame of testing labels.\n",
    "    \"\"\"\n",
    "    \n",
    "    train_path = os.path.join(dir_path, 'Train')\n",
    "    test_path = os.path.join(dir_path, 'Test')\n",
    "    \n",
    "    label_training = os.path.join(dir_path, 'label_train.csv')\n",
    "    label_testing = os.path.join(dir_path, 'test_format.csv')\n",
    "    \n",
    "    training_files = os.listdir(train_path)\n",
    "    testing_files = os.listdir(test_path)\n",
    "    \n",
    "    # Load training and testing datasets\n",
    "    training_dataset = []\n",
    "    for path in training_files:\n",
    "        if path.endswith('.npy'):\n",
    "            train_data = np.load(os.path.join(train_path, path))\n",
    "            training_dataset.append(train_data)\n",
    "            \n",
    "    testing_dataset = []\n",
    "    for path in testing_files:\n",
    "        if path.endswith('.npy'):\n",
    "            test_data = np.load(os.path.join(test_path, path))\n",
    "            testing_dataset.append(test_data)\n",
    "    \n",
    "    # Load labels\n",
    "    label_train = pd.read_csv(label_training)\n",
    "    label_test = pd.read_csv(label_testing)\n",
    "    \n",
    "    \n",
    "    return np.array(training_dataset), np.array(testing_dataset), label_train, label_test"
   ]
  },
  {
   "cell_type": "code",
   "execution_count": 3,
   "metadata": {},
   "outputs": [
    {
     "name": "stdout",
     "output_type": "stream",
     "text": [
      "(72, 48)\n",
      "(60, 2)\n"
     ]
    }
   ],
   "source": [
    "train, test, train_labels, test_labels = load_dataset('Dataset/')\n",
    "\n",
    "# Plot animaition af the testing data\n",
    "print(test[1].shape)\n",
    "print(test_labels.shape)\n",
    "\n",
    "# Normalize the data and convert from negative to positive\n",
    "train = train - np.min(train)\n",
    "train = train.astype('float32') / max(np.max(train), 1)\n",
    "test = test - np.min(test)\n",
    "test = test.astype('float32') / max(np.max(test), 1)\n",
    "\n",
    "train_labels_coded = pd.get_dummies(train_labels['target'])\n",
    "test_labels_coded = pd.get_dummies(test_labels['target'])\n",
    "# Add two missing columns to the test_labels\n",
    "test_labels_coded['1'] = False\n",
    "test_labels_coded['2'] = False"
   ]
  },
  {
   "cell_type": "code",
   "execution_count": 4,
   "metadata": {},
   "outputs": [
    {
     "name": "stdout",
     "output_type": "stream",
     "text": [
      "Model: \"sequential\"\n",
      "_________________________________________________________________\n",
      " Layer (type)                Output Shape              Param #   \n",
      "=================================================================\n",
      " conv2d (Conv2D)             (None, 67, 43, 32)        1184      \n",
      "                                                                 \n",
      " max_pooling2d (MaxPooling2  (None, 33, 21, 32)        0         \n",
      " D)                                                              \n",
      "                                                                 \n",
      " conv2d_1 (Conv2D)           (None, 28, 16, 64)        73792     \n",
      "                                                                 \n",
      " max_pooling2d_1 (MaxPoolin  (None, 14, 8, 64)         0         \n",
      " g2D)                                                            \n",
      "                                                                 \n",
      " conv2d_2 (Conv2D)           (None, 9, 3, 128)         295040    \n",
      "                                                                 \n",
      " max_pooling2d_2 (MaxPoolin  (None, 4, 1, 128)         0         \n",
      " g2D)                                                            \n",
      "                                                                 \n",
      " flatten (Flatten)           (None, 512)               0         \n",
      "                                                                 \n",
      " dense (Dense)               (None, 128)               65664     \n",
      "                                                                 \n",
      " dense_1 (Dense)             (None, 3)                 387       \n",
      "                                                                 \n",
      "=================================================================\n",
      "Total params: 436067 (1.66 MB)\n",
      "Trainable params: 436067 (1.66 MB)\n",
      "Non-trainable params: 0 (0.00 Byte)\n",
      "_________________________________________________________________\n"
     ]
    },
    {
     "name": "stderr",
     "output_type": "stream",
     "text": [
      "2025-04-01 19:30:45.025219: I external/local_xla/xla/stream_executor/cuda/cuda_executor.cc:901] successful NUMA node read from SysFS had negative value (-1), but there must be at least one NUMA node, so returning NUMA node zero. See more at https://github.com/torvalds/linux/blob/v6.0/Documentation/ABI/testing/sysfs-bus-pci#L344-L355\n",
      "2025-04-01 19:30:45.061095: I external/local_xla/xla/stream_executor/cuda/cuda_executor.cc:901] successful NUMA node read from SysFS had negative value (-1), but there must be at least one NUMA node, so returning NUMA node zero. See more at https://github.com/torvalds/linux/blob/v6.0/Documentation/ABI/testing/sysfs-bus-pci#L344-L355\n",
      "2025-04-01 19:30:45.063645: I external/local_xla/xla/stream_executor/cuda/cuda_executor.cc:901] successful NUMA node read from SysFS had negative value (-1), but there must be at least one NUMA node, so returning NUMA node zero. See more at https://github.com/torvalds/linux/blob/v6.0/Documentation/ABI/testing/sysfs-bus-pci#L344-L355\n",
      "2025-04-01 19:30:45.066672: I external/local_xla/xla/stream_executor/cuda/cuda_executor.cc:901] successful NUMA node read from SysFS had negative value (-1), but there must be at least one NUMA node, so returning NUMA node zero. See more at https://github.com/torvalds/linux/blob/v6.0/Documentation/ABI/testing/sysfs-bus-pci#L344-L355\n",
      "2025-04-01 19:30:45.069053: I external/local_xla/xla/stream_executor/cuda/cuda_executor.cc:901] successful NUMA node read from SysFS had negative value (-1), but there must be at least one NUMA node, so returning NUMA node zero. See more at https://github.com/torvalds/linux/blob/v6.0/Documentation/ABI/testing/sysfs-bus-pci#L344-L355\n",
      "2025-04-01 19:30:45.071866: I external/local_xla/xla/stream_executor/cuda/cuda_executor.cc:901] successful NUMA node read from SysFS had negative value (-1), but there must be at least one NUMA node, so returning NUMA node zero. See more at https://github.com/torvalds/linux/blob/v6.0/Documentation/ABI/testing/sysfs-bus-pci#L344-L355\n",
      "2025-04-01 19:30:45.217125: I external/local_xla/xla/stream_executor/cuda/cuda_executor.cc:901] successful NUMA node read from SysFS had negative value (-1), but there must be at least one NUMA node, so returning NUMA node zero. See more at https://github.com/torvalds/linux/blob/v6.0/Documentation/ABI/testing/sysfs-bus-pci#L344-L355\n",
      "2025-04-01 19:30:45.218121: I external/local_xla/xla/stream_executor/cuda/cuda_executor.cc:901] successful NUMA node read from SysFS had negative value (-1), but there must be at least one NUMA node, so returning NUMA node zero. See more at https://github.com/torvalds/linux/blob/v6.0/Documentation/ABI/testing/sysfs-bus-pci#L344-L355\n",
      "2025-04-01 19:30:45.219021: I external/local_xla/xla/stream_executor/cuda/cuda_executor.cc:901] successful NUMA node read from SysFS had negative value (-1), but there must be at least one NUMA node, so returning NUMA node zero. See more at https://github.com/torvalds/linux/blob/v6.0/Documentation/ABI/testing/sysfs-bus-pci#L344-L355\n",
      "2025-04-01 19:30:45.219976: I tensorflow/core/common_runtime/gpu/gpu_device.cc:1929] Created device /job:localhost/replica:0/task:0/device:GPU:0 with 6632 MB memory:  -> device: 0, name: NVIDIA GeForce RTX 2070 SUPER, pci bus id: 0000:09:00.0, compute capability: 7.5\n"
     ]
    }
   ],
   "source": [
    "# Creating a model\n",
    "\n",
    "model = Sequential([\n",
    "    InputLayer(input_shape=(72, 48, 1)),\n",
    "    Conv2D(32, (6, 6), activation='relu'),\n",
    "    MaxPooling2D((2, 2)),\n",
    "    \n",
    "    Conv2D(64, (6, 6), activation='relu'),\n",
    "    MaxPooling2D((2, 2)),\n",
    "    \n",
    "    Conv2D(128, (6, 6), activation='relu'),\n",
    "    MaxPooling2D((2, 2)),\n",
    "    \n",
    "    Flatten(),\n",
    "    \n",
    "    Dense(128, activation='relu'),   \n",
    "    Dense(3)\n",
    "])\n",
    "\n",
    "lr_reducer = ReduceLROnPlateau(monitor='val_loss', factor=0.5, patience=6, min_lr=1e-6)\n",
    "early_stopping = EarlyStopping(monitor='val_loss', patience=15, restore_best_weights=True, verbose=1)\n",
    "batch_size = 16\n",
    "n_of_epochs = 100\n",
    "\n",
    "model.compile(optimizer='adam', loss='mse', metrics=['mae', 'accuracy'])\n",
    "model.summary()"
   ]
  },
  {
   "cell_type": "code",
   "execution_count": 5,
   "metadata": {},
   "outputs": [
    {
     "name": "stdout",
     "output_type": "stream",
     "text": [
      "Epoch 1/100\n"
     ]
    },
    {
     "name": "stderr",
     "output_type": "stream",
     "text": [
      "2025-04-01 19:30:45.942234: I external/local_xla/xla/stream_executor/cuda/cuda_dnn.cc:454] Loaded cuDNN version 8904\n",
      "2025-04-01 19:30:46.518876: I external/local_xla/xla/service/service.cc:168] XLA service 0x7f560c7815a0 initialized for platform CUDA (this does not guarantee that XLA will be used). Devices:\n",
      "2025-04-01 19:30:46.518904: I external/local_xla/xla/service/service.cc:176]   StreamExecutor device (0): NVIDIA GeForce RTX 2070 SUPER, Compute Capability 7.5\n",
      "2025-04-01 19:30:46.526755: I tensorflow/compiler/mlir/tensorflow/utils/dump_mlir_util.cc:269] disabling MLIR crash reproducer, set env var `MLIR_CRASH_REPRODUCER_DIRECTORY` to enable.\n",
      "WARNING: All log messages before absl::InitializeLog() is called are written to STDERR\n",
      "I0000 00:00:1743535846.632362  281761 device_compiler.h:186] Compiled cluster using XLA!  This line is logged at most once for the lifetime of the process.\n"
     ]
    },
    {
     "name": "stdout",
     "output_type": "stream",
     "text": [
      "78/78 [==============================] - 3s 10ms/step - loss: 0.0878 - mae: 0.1635 - accuracy: 0.8921 - val_loss: 0.0503 - val_mae: 0.1662 - val_accuracy: 0.9416 - lr: 0.0010\n",
      "Epoch 2/100\n",
      "78/78 [==============================] - 0s 4ms/step - loss: 0.0706 - mae: 0.1399 - accuracy: 0.8921 - val_loss: 0.0411 - val_mae: 0.0911 - val_accuracy: 0.9416 - lr: 0.0010\n",
      "Epoch 3/100\n",
      "78/78 [==============================] - 0s 4ms/step - loss: 0.0685 - mae: 0.1334 - accuracy: 0.8921 - val_loss: 0.0416 - val_mae: 0.1154 - val_accuracy: 0.9416 - lr: 0.0010\n",
      "Epoch 4/100\n",
      "78/78 [==============================] - 0s 4ms/step - loss: 0.0690 - mae: 0.1383 - accuracy: 0.8921 - val_loss: 0.0408 - val_mae: 0.1170 - val_accuracy: 0.9416 - lr: 0.0010\n",
      "Epoch 5/100\n",
      "78/78 [==============================] - 0s 4ms/step - loss: 0.0693 - mae: 0.1367 - accuracy: 0.8921 - val_loss: 0.0404 - val_mae: 0.0991 - val_accuracy: 0.9416 - lr: 0.0010\n",
      "Epoch 6/100\n",
      "78/78 [==============================] - 0s 4ms/step - loss: 0.0683 - mae: 0.1358 - accuracy: 0.8921 - val_loss: 0.0381 - val_mae: 0.0782 - val_accuracy: 0.9416 - lr: 0.0010\n",
      "Epoch 7/100\n",
      "78/78 [==============================] - 0s 4ms/step - loss: 0.0682 - mae: 0.1341 - accuracy: 0.8921 - val_loss: 0.0381 - val_mae: 0.0897 - val_accuracy: 0.9416 - lr: 0.0010\n",
      "Epoch 8/100\n",
      "78/78 [==============================] - 0s 4ms/step - loss: 0.0677 - mae: 0.1327 - accuracy: 0.8921 - val_loss: 0.0385 - val_mae: 0.1035 - val_accuracy: 0.9416 - lr: 0.0010\n",
      "Epoch 9/100\n",
      "78/78 [==============================] - 0s 4ms/step - loss: 0.0678 - mae: 0.1347 - accuracy: 0.8921 - val_loss: 0.0396 - val_mae: 0.1064 - val_accuracy: 0.9416 - lr: 0.0010\n",
      "Epoch 10/100\n",
      "78/78 [==============================] - 0s 4ms/step - loss: 0.0670 - mae: 0.1335 - accuracy: 0.8921 - val_loss: 0.0391 - val_mae: 0.0960 - val_accuracy: 0.9416 - lr: 0.0010\n",
      "Epoch 11/100\n",
      "78/78 [==============================] - 0s 4ms/step - loss: 0.0670 - mae: 0.1293 - accuracy: 0.8921 - val_loss: 0.0427 - val_mae: 0.1338 - val_accuracy: 0.9416 - lr: 0.0010\n",
      "Epoch 12/100\n",
      "78/78 [==============================] - 0s 4ms/step - loss: 0.0671 - mae: 0.1352 - accuracy: 0.8921 - val_loss: 0.0397 - val_mae: 0.1071 - val_accuracy: 0.9416 - lr: 0.0010\n",
      "Epoch 13/100\n",
      "78/78 [==============================] - 0s 4ms/step - loss: 0.0663 - mae: 0.1330 - accuracy: 0.8921 - val_loss: 0.0377 - val_mae: 0.0906 - val_accuracy: 0.9416 - lr: 5.0000e-04\n",
      "Epoch 14/100\n",
      "78/78 [==============================] - 0s 4ms/step - loss: 0.0672 - mae: 0.1400 - accuracy: 0.8921 - val_loss: 0.0375 - val_mae: 0.0862 - val_accuracy: 0.9416 - lr: 5.0000e-04\n",
      "Epoch 15/100\n",
      "78/78 [==============================] - 0s 4ms/step - loss: 0.0665 - mae: 0.1299 - accuracy: 0.8921 - val_loss: 0.0383 - val_mae: 0.1030 - val_accuracy: 0.9416 - lr: 5.0000e-04\n",
      "Epoch 16/100\n",
      "78/78 [==============================] - 0s 4ms/step - loss: 0.0663 - mae: 0.1326 - accuracy: 0.8921 - val_loss: 0.0384 - val_mae: 0.0992 - val_accuracy: 0.9416 - lr: 5.0000e-04\n",
      "Epoch 17/100\n",
      "78/78 [==============================] - 0s 4ms/step - loss: 0.0670 - mae: 0.1389 - accuracy: 0.8921 - val_loss: 0.0403 - val_mae: 0.1214 - val_accuracy: 0.9416 - lr: 5.0000e-04\n",
      "Epoch 18/100\n",
      "78/78 [==============================] - 0s 4ms/step - loss: 0.0670 - mae: 0.1419 - accuracy: 0.8921 - val_loss: 0.0375 - val_mae: 0.0875 - val_accuracy: 0.9416 - lr: 5.0000e-04\n",
      "Epoch 19/100\n",
      "78/78 [==============================] - 0s 4ms/step - loss: 0.0667 - mae: 0.1306 - accuracy: 0.8921 - val_loss: 0.0386 - val_mae: 0.1034 - val_accuracy: 0.9416 - lr: 5.0000e-04\n",
      "Epoch 20/100\n",
      "78/78 [==============================] - 0s 4ms/step - loss: 0.0664 - mae: 0.1313 - accuracy: 0.8921 - val_loss: 0.0386 - val_mae: 0.1064 - val_accuracy: 0.9416 - lr: 5.0000e-04\n",
      "Epoch 21/100\n",
      "78/78 [==============================] - 0s 4ms/step - loss: 0.0664 - mae: 0.1338 - accuracy: 0.8921 - val_loss: 0.0383 - val_mae: 0.1029 - val_accuracy: 0.9416 - lr: 2.5000e-04\n",
      "Epoch 22/100\n",
      "78/78 [==============================] - 0s 4ms/step - loss: 0.0664 - mae: 0.1330 - accuracy: 0.8921 - val_loss: 0.0379 - val_mae: 0.0972 - val_accuracy: 0.9416 - lr: 2.5000e-04\n",
      "Epoch 23/100\n",
      "78/78 [==============================] - 0s 4ms/step - loss: 0.0664 - mae: 0.1274 - accuracy: 0.8921 - val_loss: 0.0392 - val_mae: 0.1103 - val_accuracy: 0.9416 - lr: 2.5000e-04\n",
      "Epoch 24/100\n",
      "78/78 [==============================] - 0s 4ms/step - loss: 0.0665 - mae: 0.1342 - accuracy: 0.8921 - val_loss: 0.0381 - val_mae: 0.1001 - val_accuracy: 0.9416 - lr: 2.5000e-04\n",
      "Epoch 25/100\n",
      "78/78 [==============================] - 0s 4ms/step - loss: 0.0664 - mae: 0.1318 - accuracy: 0.8921 - val_loss: 0.0381 - val_mae: 0.0981 - val_accuracy: 0.9416 - lr: 2.5000e-04\n",
      "Epoch 26/100\n",
      "78/78 [==============================] - 0s 4ms/step - loss: 0.0664 - mae: 0.1319 - accuracy: 0.8921 - val_loss: 0.0380 - val_mae: 0.0959 - val_accuracy: 0.9416 - lr: 2.5000e-04\n",
      "Epoch 27/100\n",
      "78/78 [==============================] - 0s 4ms/step - loss: 0.0662 - mae: 0.1310 - accuracy: 0.8921 - val_loss: 0.0381 - val_mae: 0.1006 - val_accuracy: 0.9416 - lr: 1.2500e-04\n",
      "Epoch 28/100\n",
      "78/78 [==============================] - 0s 4ms/step - loss: 0.0661 - mae: 0.1321 - accuracy: 0.8921 - val_loss: 0.0381 - val_mae: 0.1006 - val_accuracy: 0.9416 - lr: 1.2500e-04\n",
      "Epoch 29/100\n",
      "74/78 [===========================>..] - ETA: 0s - loss: 0.0664 - mae: 0.1318 - accuracy: 0.8919Restoring model weights from the end of the best epoch: 14.\n",
      "78/78 [==============================] - 0s 4ms/step - loss: 0.0663 - mae: 0.1315 - accuracy: 0.8921 - val_loss: 0.0380 - val_mae: 0.0984 - val_accuracy: 0.9416 - lr: 1.2500e-04\n",
      "Epoch 29: early stopping\n"
     ]
    }
   ],
   "source": [
    "#Train the model\n",
    "validation_split = 0.1\n",
    "\n",
    "history = model.fit(train, train_labels_coded, \n",
    "                    batch_size=batch_size, \n",
    "                    epochs=n_of_epochs, \n",
    "                    validation_split = validation_split,\n",
    "                    callbacks=[lr_reducer, early_stopping])"
   ]
  },
  {
   "cell_type": "code",
   "execution_count": 6,
   "metadata": {},
   "outputs": [
    {
     "data": {
      "image/png": "[encoded data removed]",
      "text/plain": [
       "<Figure size 640x480 with 1 Axes>"
      ]
     },
     "metadata": {},
     "output_type": "display_data"
    }
   ],
   "source": [
    "# Plot the training loss\n",
    "plt.plot(history.history['loss'], label='train loss')\n",
    "plt.plot(history.history['val_loss'], label='validation loss')\n",
    "plt.title('Model loss')\n",
    "plt.ylabel('Loss')\n",
    "plt.xlabel('Epoch')\n",
    "plt.legend()\n",
    "plt.show()"
   ]
  },
  {
   "cell_type": "code",
   "execution_count": 7,
   "metadata": {},
   "outputs": [
    {
     "name": "stdout",
     "output_type": "stream",
     "text": [
      "2/2 [==============================] - 0s 121ms/step - loss: 0.0029 - mae: 0.0515 - accuracy: 1.0000\n",
      "Mean square error: 0.05147816240787506\n",
      "Loss: 0.0029004786629229784\n",
      "Accuracy: 100.00%\n"
     ]
    }
   ],
   "source": [
    "# Evaluate the model\n",
    "test_loss, test_mae, test_acc = model.evaluate(test, test_labels_coded)\n",
    "print('Mean square error:', test_mae)\n",
    "print('Loss:', test_loss)\n",
    "print('Accuracy: {:.2f}%'.format(test_acc * 100))"
   ]
  }
 ],
 "metadata": {
  "kernelspec": {
   "display_name": "MLF",
   "language": "python",
   "name": "python3"
  },
  "language_info": {
   "codemirror_mode": {
    "name": "ipython",
    "version": 3
   },
   "file_extension": ".py",
   "mimetype": "text/x-python",
   "name": "python",
   "nbconvert_exporter": "python",
   "pygments_lexer": "ipython3",
   "version": "3.10.0"
  }
 },
 "nbformat": 4,
 "nbformat_minor": 2
}
